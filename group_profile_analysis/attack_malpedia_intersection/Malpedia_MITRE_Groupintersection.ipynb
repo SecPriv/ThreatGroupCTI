{
 "cells": [
  {
   "cell_type": "code",
   "execution_count": 1,
   "id": "a0257f54-63ff-4a03-af71-b72e68045d3d",
   "metadata": {},
   "outputs": [],
   "source": [
    "import os\n",
    "import json\n",
    "import csv\n",
    "import pandas as pd\n",
    "import json\n",
    "import re\n",
    "from collections import defaultdict"
   ]
  },
  {
   "cell_type": "code",
   "execution_count": 2,
   "id": "26c262c5-cb27-4fa4-9938-3192ef5f820e",
   "metadata": {},
   "outputs": [],
   "source": [
    "def load_config():\n",
    "    # Get the absolute path of the project root (one directory up)\n",
    "    project_root = os.path.abspath(os.path.join(os.getcwd(), '../..'))\n",
    "\n",
    "    # Normalize the project_root to ensure it's correctly formatted\n",
    "    project_root = os.path.normpath(project_root)\n",
    "    \n",
    "    config_path = os.path.join(project_root, 'config.json')\n",
    "\n",
    "    if not os.path.exists(config_path):\n",
    "        raise FileNotFoundError(f\"Config file not found at expected location: {config_path}\")\n",
    "\n",
    "    with open(config_path, 'r') as f:\n",
    "        config = json.load(f)\n",
    "\n",
    "    return config, project_root"
   ]
  },
  {
   "cell_type": "code",
   "execution_count": 3,
   "id": "15c1f314-89dd-43e0-8b1d-5ad70669b61c",
   "metadata": {},
   "outputs": [],
   "source": [
    "config, project_root = load_config()"
   ]
  },
  {
   "cell_type": "code",
   "execution_count": 4,
   "id": "602ffbc4-245f-4511-9393-be47089924d2",
   "metadata": {},
   "outputs": [],
   "source": [
    "csv_path_enterprise = os.path.normpath(os.path.join(project_root, config[\"data_directory\"], config[\"file_paths_groups_v15\"][\"enterprise\"]))\n",
    "csv_path_mobile = os.path.normpath(os.path.join(project_root, config[\"data_directory\"], config[\"file_paths_groups_v15\"][\"mobile\"]))\n",
    "csv_path_ics = os.path.normpath(os.path.join(project_root, config[\"data_directory\"], config[\"file_paths_groups_v15\"][\"ics\"]))"
   ]
  },
  {
   "cell_type": "code",
   "execution_count": 5,
   "id": "43e0dadb-be57-4cc9-9c61-db68622156f3",
   "metadata": {},
   "outputs": [],
   "source": [
    "def load_groups(file_path, sheet_name='groups'):\n",
    "    \"\"\"\n",
    "    Load groups from a MITRE ATT&CK Excel file.\n",
    "\n",
    "    Parameters\n",
    "    ----------\n",
    "    file_path : str\n",
    "        Path to the Excel file.\n",
    "    sheet_name : str\n",
    "        Sheet name containing group data.\n",
    "\n",
    "    Returns\n",
    "    -------\n",
    "    dict\n",
    "        Dictionary mapping group ID to name and associated aliases.\n",
    "    \"\"\"\n",
    "    df = pd.read_excel(file_path, sheet_name=sheet_name)\n",
    "    df = df[['ID', 'name', 'associated groups']].dropna(subset=['ID'])\n",
    "\n",
    "    group_data = {}\n",
    "\n",
    "    for _, row in df.iterrows():\n",
    "        group_id = row['ID'].strip()\n",
    "        name = row['name'].strip()\n",
    "        aliases_raw = row.get('associated groups')\n",
    "\n",
    "        aliases = []\n",
    "        if pd.notna(aliases_raw):\n",
    "            aliases = [alias.strip() for alias in aliases_raw.split(\",\") if alias.strip()]\n",
    "\n",
    "        group_data[group_id] = {\n",
    "            'name': name,\n",
    "            'aliases': aliases\n",
    "        }\n",
    "\n",
    "    return group_data"
   ]
  },
  {
   "cell_type": "code",
   "execution_count": 6,
   "id": "3ec67694-3376-4fa3-adfa-e7a3630e2792",
   "metadata": {},
   "outputs": [],
   "source": [
    "enterprise_groups = load_groups(csv_path_enterprise)\n",
    "ics_groups = load_groups(csv_path_mobile)\n",
    "mobile_groups = load_groups(csv_path_ics)"
   ]
  },
  {
   "cell_type": "code",
   "execution_count": 7,
   "id": "9573871d-5cde-4825-91e8-9c65f0b6165a",
   "metadata": {},
   "outputs": [],
   "source": [
    "def merge_group_data(primary, secondary):\n",
    "    \"\"\"\n",
    "    Merge group data dictionaries by group ID.\n",
    "\n",
    "    Parameters\n",
    "    ----------\n",
    "    primary : dict\n",
    "        Base group data.\n",
    "    secondary : dict\n",
    "        New group data to merge into the base.\n",
    "    \"\"\"\n",
    "    for group_id, info in secondary.items():\n",
    "        if group_id not in primary:\n",
    "            primary[group_id] = info\n",
    "        else:\n",
    "            # Merge aliases while preserving uniqueness\n",
    "            existing_aliases = set(primary[group_id]['aliases'])\n",
    "            new_aliases = set(info['aliases'])\n",
    "\n",
    "            merged_aliases = sorted(existing_aliases.union(new_aliases))\n",
    "            primary[group_id]['aliases'] = merged_aliases\n"
   ]
  },
  {
   "cell_type": "code",
   "execution_count": 8,
   "id": "a18f5c15-3b8c-40c1-aca5-795df91c4e33",
   "metadata": {},
   "outputs": [],
   "source": [
    " ##Merge ICS and Mobile into Enterprise\n",
    "merge_group_data(enterprise_groups, ics_groups)\n",
    "merge_group_data(enterprise_groups, mobile_groups)\n"
   ]
  },
  {
   "cell_type": "code",
   "execution_count": 9,
   "id": "10d50ccd-a754-4675-bb5e-e0476093f14c",
   "metadata": {},
   "outputs": [
    {
     "data": {
      "text/plain": [
       "152"
      ]
     },
     "execution_count": 9,
     "metadata": {},
     "output_type": "execute_result"
    }
   ],
   "source": [
    "len(enterprise_groups)"
   ]
  },
  {
   "cell_type": "code",
   "execution_count": 10,
   "id": "56bdc609-fda6-4c19-80ba-5ceb3d1734b4",
   "metadata": {},
   "outputs": [],
   "source": [
    "def load_json_metadata(metadata_path):\n",
    "    \"\"\"\n",
    "    Loads the group metadata JSON file.\n",
    "\n",
    "    Parameters\n",
    "    ----------\n",
    "    metadata_path : str\n",
    "        Path to the JSON file containing group metadata.\n",
    "\n",
    "    Returns\n",
    "    -------\n",
    "    dict\n",
    "        Group metadata loaded from the file.\n",
    "    \"\"\"\n",
    "    with open(metadata_path, 'r', encoding='utf-8') as f:\n",
    "        metadata = json.load(f)\n",
    "    return metadata"
   ]
  },
  {
   "cell_type": "code",
   "execution_count": 11,
   "id": "586a679b-30f9-4b4d-b14d-e943f5159be3",
   "metadata": {},
   "outputs": [],
   "source": [
    "malpedia_actors_file = os.path.normpath(os.path.join(project_root, \"group_profile_analysis\", \"malpedia_api_responses\", \"actors_data.json\"))"
   ]
  },
  {
   "cell_type": "code",
   "execution_count": 12,
   "id": "cc1f8593-5c31-4392-bb50-985a064c2538",
   "metadata": {},
   "outputs": [],
   "source": [
    "malpedia_actors_metadata = load_json_metadata(malpedia_actors_file)"
   ]
  },
  {
   "cell_type": "code",
   "execution_count": 13,
   "id": "4d08f8b1-c7e7-459c-9f99-a0f00fb37942",
   "metadata": {},
   "outputs": [
    {
     "data": {
      "text/plain": [
       "800"
      ]
     },
     "execution_count": 13,
     "metadata": {},
     "output_type": "execute_result"
    }
   ],
   "source": [
    "len(malpedia_actors_metadata)"
   ]
  },
  {
   "cell_type": "code",
   "execution_count": 15,
   "id": "30ed2835-0560-41c5-8c85-f848d4139ebf",
   "metadata": {},
   "outputs": [],
   "source": [
    "# Load the MITRE group mappings (this should be the mappings of group_name ->aliases created from the Excel files)\n",
    "attack_group_alias_file = os.path.normpath(os.path.join(project_root, \"group_profile_analysis\", \"attack_malpedia_intersection\", \"attack_group_mapping.json\"))"
   ]
  },
  {
   "cell_type": "code",
   "execution_count": 20,
   "id": "6443afc2-825b-4dad-948b-3877b7733af1",
   "metadata": {},
   "outputs": [],
   "source": [
    "attack_group_alias_metadata =load_json_metadata(attack_group_alias_file)"
   ]
  },
  {
   "cell_type": "code",
   "execution_count": 21,
   "id": "ecb588c7-c68d-4c64-82ea-9f310865c377",
   "metadata": {},
   "outputs": [],
   "source": [
    "# Function to normalize group names\n",
    "def normalize_group_name(name):\n",
    "    \n",
    "    if not isinstance(name, str):\n",
    "        return ''\n",
    "    \n",
    "    # Convert to lowercase for case-insensitive comparison\n",
    "    name = name.lower().strip()\n",
    "\n",
    "    # Remove 'team' from names like 'Sandworm Team'\n",
    "    if name.endswith(' team'):\n",
    "        name = name.replace(' team', '')\n",
    "\n",
    "    # Replace 'threat group-' with 'tg-' (e.g., 'Threat Group-1314' -> 'TG-1314')\n",
    "    name = re.sub(r'threat group[- ]', 'tg-', name)\n",
    "\n",
    "    # Remove 'temp.' or similar prefixes (e.g., 'Temp.Pittytiger' -> 'Pittytiger')\n",
    "    name = re.sub(r'^temp[\\. ]+', '', name)\n",
    "\n",
    "    # Normalize spaces and dots (e.g., 'pitty tiger' == 'pitty.tiger')\n",
    "    name = re.sub(r'[\\. ]+', ' ', name)\n",
    "\n",
    "    # Remove common suffixes like 'framework' or 'group' (e.g., 'Inception Framework' -> 'Inception')\n",
    "    name = re.sub(r' (framework|group)$', '', name)\n",
    "\n",
    "    # Standardize 'Confucius' and 'Confucious' to 'confucius'\n",
    "    name = re.sub(r'confucious', 'confucius', name)\n",
    "\n",
    "    # Normalize specific known prefixes (apt, unc, g)\n",
    "    name = re.sub(\n",
    "        r'\\b(apt|unc|g)[\\s\\.-]*([a-z]*)[\\s\\.-]*(\\d{1,4})\\b',\n",
    "        lambda m: m.group(1) + m.group(2) + m.group(3),\n",
    "        name\n",
    "    )\n",
    "    #re.sub(r'([a-z])[\\s\\.-]?(\\d{2,4})', r'\\1\\2', name)\n",
    "\n",
    "\n",
    "    return name"
   ]
  },
  {
   "cell_type": "code",
   "execution_count": 22,
   "id": "793c9493-7b8a-4e0c-ab61-e8caab5d2a22",
   "metadata": {},
   "outputs": [],
   "source": [
    "# Compare MITRE group names and synonyms with Malpedia actors\n",
    "def find_intersection_with_malpedia_actors(malpedia_actors_data, mitre_group_mappings, output_file=\"group_intersection_output.json\"):\n",
    "    intersection = []  # Store MITRE groups that intersect with Malpedia actors\n",
    "    unique_group_ids = set()  # To store unique group IDs for intersection\n",
    "    mitre_groups_not_in_malpedia = []  # Store MITRE groups not found in Malpedia\n",
    "\n",
    "        # Dictionary to store the results for the JSON output\n",
    "    intersection_data = {}\n",
    "\n",
    "    # Loop through each MITRE group in mitre_group_mappings\n",
    "    for group_id, group_info in mitre_group_mappings.items():\n",
    "        group_name = normalize_group_name(group_info['name'])  # Normalize group name\n",
    "        associated_groups = group_info.get('aliases', '')\n",
    "\n",
    "        # Normalize associated_groups and ensure it's a list for iteration\n",
    "        if isinstance(associated_groups, float) or associated_groups is None:\n",
    "            associated_groups = ''\n",
    "        if isinstance(associated_groups, str):\n",
    "            associated_groups = [ag.strip() for ag in associated_groups.split(',')]\n",
    "\n",
    "        #associated_groups = [normalize_group_name(ag) for ag in associated_groups] if isinstance(associated_groups, list) else [normalize_group_name(associated_groups)]\n",
    "        associated_groups = [normalize_group_name(ag) for ag in associated_groups]\n",
    "\n",
    "        found_match = False\n",
    "\n",
    "        # Loop through each actor in Malpedia actors data\n",
    "        for actor_id, actor_info in malpedia_actors_data.items():\n",
    "            actor_name = normalize_group_name(actor_info['value'])  # Normalize actor name\n",
    "            synonyms = [normalize_group_name(synonym) for synonym in actor_info.get('meta', {}).get('synonyms', [])]  # Normalize synonyms\n",
    "\n",
    "            # Check if group_name or associated_groups match with Malpedia actor name or synonyms\n",
    "            if group_name == actor_name or group_name in synonyms:\n",
    "                intersection.append((group_name, actor_name, group_id))  # Found intersection with group_name\n",
    "                unique_group_ids.add(group_id)\n",
    "                found_match = True\n",
    "\n",
    "                # Add data to intersection_data for JSON output\n",
    "                intersection_data[group_id] = {\n",
    "                    'MITRE Group Name': group_name,\n",
    "                    'MITRE Associated Names': associated_groups,\n",
    "                    'Malpedia Actor Name': actor_name,\n",
    "                    'Malpedia Aliases': synonyms\n",
    "                }\n",
    "                \n",
    "                break  # No need to check further if match is found\n",
    "            elif any(ag == actor_name or ag in synonyms for ag in associated_groups):\n",
    "                intersection.append((group_name, actor_name, group_id))  # Found intersection with associated group\n",
    "                unique_group_ids.add(group_id)\n",
    "                found_match = True\n",
    "\n",
    "                # Add data to intersection_data for JSON output\n",
    "                intersection_data[group_id] = {\n",
    "                    'MITRE Group Name': group_name,\n",
    "                    'MITRE Associated Names': associated_groups,\n",
    "                    'Malpedia Actor Name': actor_name,\n",
    "                    'Malpedia Aliases':synonyms\n",
    "                }\n",
    "                \n",
    "                break\n",
    "\n",
    "        # If no match was found for this MITRE group, add it to the \"not in Malpedia\" list\n",
    "        if not found_match:\n",
    "            mitre_groups_not_in_malpedia.append((group_name, group_id))\n",
    "\n",
    "          # Write the intersection data to a JSON file\n",
    "    with open(output_file, 'w') as json_file:\n",
    "        json.dump(intersection_data, json_file, indent=4)\n",
    "\n",
    "    return intersection, unique_group_ids, mitre_groups_not_in_malpedia\n"
   ]
  },
  {
   "cell_type": "code",
   "execution_count": 23,
   "id": "2fad9412-1097-4300-ab68-3ef667ce07a5",
   "metadata": {},
   "outputs": [],
   "source": [
    "# Find the intersection\n",
    "intersection, unique_group_ids, mitre_groups_not_in_malpedia = find_intersection_with_malpedia_actors(malpedia_actors_metadata, attack_group_alias_metadata, output_file=\"group_intersection_output.json\")\n"
   ]
  },
  {
   "cell_type": "code",
   "execution_count": 19,
   "id": "7ace3d9d-8053-4a0f-abdc-9cf5689863dc",
   "metadata": {},
   "outputs": [
    {
     "name": "stdout",
     "output_type": "stream",
     "text": [
      "Number of keys in the JSON file: 145\n"
     ]
    }
   ],
   "source": [
    "# Function to read the JSON and count the number of keys\n",
    "def count_json_keys(json_file_path):\n",
    "    # Open and load the JSON file\n",
    "    with open(json_file_path, 'r') as file:\n",
    "        data = json.load(file)\n",
    "\n",
    "    # Count the number of keys in the JSON data (which is a dictionary)\n",
    "    num_keys = len(data)\n",
    "    return num_keys\n",
    "# Example usage\n",
    "json_file_path = 'group_intersection_output.json'  # Replace with your actual file path\n",
    "num_keys = count_json_keys(json_file_path)\n",
    "\n",
    "print(f\"Number of keys in the JSON file: {num_keys}\")"
   ]
  },
  {
   "cell_type": "code",
   "execution_count": 61,
   "id": "8fd9d303-02a4-4aa4-be6d-7bde307548af",
   "metadata": {},
   "outputs": [
    {
     "name": "stdout",
     "output_type": "stream",
     "text": [
      "Collisions - Malpedia actors mapped to multiple MITRE groups:\n",
      "- apt17: ['G0025', 'G0001']\n",
      "- apt19: ['G0073', 'G0009']\n",
      "- apt30: ['G0013', 'G0030']\n",
      "- lazarus: ['G0082', 'G0138', 'G0032']\n",
      "- apt41: ['G0096', 'G0044']\n",
      "- earth lusca: ['G0143', 'G1006']\n",
      "- fin7: ['G0008', 'G0046']\n",
      "- dragonok: ['G0017', 'G0002']\n",
      "- mustang panda: ['G1014', 'G0129']\n"
     ]
    }
   ],
   "source": [
    "# Load your intersection JSON\n",
    "with open('group_intersection_output.json', 'r') as f:\n",
    "    data = json.load(f)\n",
    "\n",
    "# Step 1: Create a reverse map → Malpedia actor → list of MITRE group IDs\n",
    "actor_to_groups = defaultdict(list)\n",
    "\n",
    "for group_id, group_info in data.items():\n",
    "    actor_name = group_info['Malpedia Actor Name']\n",
    "    actor_to_groups[actor_name].append(group_id)\n",
    "\n",
    "# Step 2: Identify collisions (actors with multiple MITRE groups)\n",
    "collisions = {actor: group_ids for actor, group_ids in actor_to_groups.items() if len(group_ids) > 1}\n",
    "\n",
    "# Optional: Print or format the results\n",
    "print(\"Collisions - Malpedia actors mapped to multiple MITRE groups:\")\n",
    "for actor, group_ids in collisions.items():\n",
    "    print(f\"- {actor}: {group_ids}\")"
   ]
  },
  {
   "cell_type": "code",
   "execution_count": 62,
   "id": "3b682004-3ea8-47d1-acd9-9c7dc736f75a",
   "metadata": {},
   "outputs": [
    {
     "data": {
      "text/plain": [
       "[('blue mockingbird', 'G0108'),\n",
       " ('chimera', 'G0114'),\n",
       " ('lazyscripter', 'G0140'),\n",
       " ('the white company', 'G0089'),\n",
       " ('tg-1314', 'G0028'),\n",
       " ('windigo', 'G0124'),\n",
       " ('cyberav3ngers', 'G1027')]"
      ]
     },
     "execution_count": 62,
     "metadata": {},
     "output_type": "execute_result"
    }
   ],
   "source": [
    "mitre_groups_not_in_malpedia"
   ]
  },
  {
   "cell_type": "code",
   "execution_count": null,
   "id": "3acc6753-e250-4f23-b0ff-996213acedfd",
   "metadata": {},
   "outputs": [],
   "source": []
  }
 ],
 "metadata": {
  "kernelspec": {
   "display_name": "Python 3 (ipykernel)",
   "language": "python",
   "name": "python3"
  },
  "language_info": {
   "codemirror_mode": {
    "name": "ipython",
    "version": 3
   },
   "file_extension": ".py",
   "mimetype": "text/x-python",
   "name": "python",
   "nbconvert_exporter": "python",
   "pygments_lexer": "ipython3",
   "version": "3.11.4"
  }
 },
 "nbformat": 4,
 "nbformat_minor": 5
}
